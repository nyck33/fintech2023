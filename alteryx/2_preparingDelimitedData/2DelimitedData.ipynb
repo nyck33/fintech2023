{
 "cells": [
  {
   "cell_type": "code",
   "execution_count": null,
   "id": "be7c9c02",
   "metadata": {},
   "outputs": [],
   "source": [
    "from ayx import Alteryx\n",
    "import pandas as pd\n",
    "\n",
    "df = Alteryx.read('#1')\n",
    "df\n"
   ]
  },
  {
   "cell_type": "code",
   "execution_count": null,
   "id": "0aa4ed04",
   "metadata": {},
   "outputs": [],
   "source": [
    "df['1']"
   ]
  },
  {
   "cell_type": "code",
   "execution_count": null,
   "id": "dc0f1b1d",
   "metadata": {},
   "outputs": [],
   "source": [
    "#df['1'].apply(lambda s: s.replace('\"', \"\", regex=True))\n",
    "df = df.replace('\"', '', regex=True)\n",
    "df = df.replace(\"'\", \"\", regex=True)\n",
    "df"
   ]
  },
  {
   "cell_type": "code",
   "execution_count": null,
   "id": "dcbb35e4",
   "metadata": {},
   "outputs": [],
   "source": [
    "dfnew = df.rename(columns={'1`:'Poem', '2':'Poem_ID', \n",
    "                   '3':'Poem_read_date'}, inplace=False)\n",
    "dfnew"
   ]
  },
  {
   "cell_type": "code",
   "execution_count": null,
   "id": "d087249b",
   "metadata": {},
   "outputs": [],
   "source": []
  },
  {
   "cell_type": "code",
   "execution_count": null,
   "id": "ad5de6e2",
   "metadata": {},
   "outputs": [],
   "source": []
  },
  {
   "cell_type": "code",
   "execution_count": null,
   "id": "11ecf5c8",
   "metadata": {},
   "outputs": [],
   "source": []
  },
  {
   "cell_type": "code",
   "execution_count": null,
   "id": "0127530b",
   "metadata": {},
   "outputs": [],
   "source": []
  },
  {
   "cell_type": "code",
   "execution_count": null,
   "id": "c0c46cf5",
   "metadata": {},
   "outputs": [],
   "source": []
  },
  {
   "cell_type": "code",
   "execution_count": null,
   "id": "97015f87",
   "metadata": {},
   "outputs": [],
   "source": []
  },
  {
   "cell_type": "code",
   "execution_count": null,
   "id": "7fbfacdc",
   "metadata": {},
   "outputs": [],
   "source": []
  }
 ],
 "metadata": {
  "kernelspec": {
   "display_name": "Python 3 (ipykernel)",
   "language": "python",
   "name": "python3"
  },
  "language_info": {
   "codemirror_mode": {
    "name": "ipython",
    "version": 3
   },
   "file_extension": ".py",
   "mimetype": "text/x-python",
   "name": "python",
   "nbconvert_exporter": "python",
   "pygments_lexer": "ipython3",
   "version": "3.7.12"
  }
 },
 "nbformat": 4,
 "nbformat_minor": 5
}
